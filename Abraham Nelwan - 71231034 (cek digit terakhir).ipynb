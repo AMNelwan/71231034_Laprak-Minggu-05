{
 "cells": [
  {
   "cell_type": "code",
   "execution_count": 3,
   "id": "fb863d5b-04d2-4fcb-9345-a74e9bba8af2",
   "metadata": {},
   "outputs": [
    {
     "name": "stdin",
     "output_type": "stream",
     "text": [
      "Masukkan angka pertama: 76234\n",
      "Masukkan angka kedua: 65234\n",
      "Masukkan angka ketiga: 7485\n"
     ]
    },
    {
     "name": "stdout",
     "output_type": "stream",
     "text": [
      "True\n"
     ]
    }
   ],
   "source": [
    "def cek_digit_belakang(angka_pertama, angka_kedua, angka_ketiga):\n",
    "    \n",
    "    # Cek angka kalau sesuai dengan ketentuan\n",
    "    if not (0 <= angka_pertama < 100000 and 0 <= angka_kedua < 100000 and 0 <= angka_ketiga < 100000):\n",
    "        return \"Angka harus 0-99999!\"\n",
    "\n",
    "    # Pengambilan digit terakhir\n",
    "    digit1, digit2, digit3 = angka_pertama % 10, angka_kedua % 10, angka_ketiga % 10\n",
    "\n",
    "    # Cek apakah minimal dua angka memiliki digit terakhir yang sama\n",
    "    return (digit1 == digit2) or (digit1 == digit3) or (digit2 == digit3)\n",
    "\n",
    "# Input dan pengecekan jika error\n",
    "try:\n",
    "    angka1 = int(input('Masukkan angka pertama:'))\n",
    "    angka2 = int(input('Masukkan angka kedua:'))\n",
    "    angka3 = int(input('Masukkan angka ketiga:'))\n",
    "\n",
    "    print(cek_digit_belakang(angka1, angka2, angka3))\n",
    "except ValueError:\n",
    "    print(\"Input harus berupa angka!\")"
   ]
  },
  {
   "cell_type": "code",
   "execution_count": null,
   "id": "1a155002-2245-495e-8444-6f26566eb23d",
   "metadata": {},
   "outputs": [],
   "source": []
  }
 ],
 "metadata": {
  "kernelspec": {
   "display_name": "Python 3 (ipykernel)",
   "language": "python",
   "name": "python3"
  },
  "language_info": {
   "codemirror_mode": {
    "name": "ipython",
    "version": 3
   },
   "file_extension": ".py",
   "mimetype": "text/x-python",
   "name": "python",
   "nbconvert_exporter": "python",
   "pygments_lexer": "ipython3",
   "version": "3.12.0"
  }
 },
 "nbformat": 4,
 "nbformat_minor": 5
}
