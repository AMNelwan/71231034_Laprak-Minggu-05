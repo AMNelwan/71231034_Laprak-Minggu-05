{
 "cells": [
  {
   "cell_type": "code",
   "execution_count": 2,
   "id": "367b4682-1b7c-405b-a94d-a966f30544d1",
   "metadata": {},
   "outputs": [
    {
     "name": "stdout",
     "output_type": "stream",
     "text": [
      "F = 212.0\n",
      "R = 64.0\n",
      "F = 32.0\n"
     ]
    }
   ],
   "source": [
    "# Konversi suhu\n",
    "celcius_ke_farenheit = lambda celcius: (9/5) * celcius + 32\n",
    "celcius_ke_reamur = lambda celcius: 0.8 * celcius\n",
    "\n",
    "# Test Case\n",
    "print(\"F =\", celcius_ke_farenheit(100))  # Output: F = 212\n",
    "print(\"R =\", celcius_ke_reamur(80))   # Output: R = 64\n",
    "print(\"F =\", celcius_ke_farenheit(0))    # Output: F = 32\n"
   ]
  }
 ],
 "metadata": {
  "kernelspec": {
   "display_name": "Python 3 (ipykernel)",
   "language": "python",
   "name": "python3"
  },
  "language_info": {
   "codemirror_mode": {
    "name": "ipython",
    "version": 3
   },
   "file_extension": ".py",
   "mimetype": "text/x-python",
   "name": "python",
   "nbconvert_exporter": "python",
   "pygments_lexer": "ipython3",
   "version": "3.12.0"
  }
 },
 "nbformat": 4,
 "nbformat_minor": 5
}
