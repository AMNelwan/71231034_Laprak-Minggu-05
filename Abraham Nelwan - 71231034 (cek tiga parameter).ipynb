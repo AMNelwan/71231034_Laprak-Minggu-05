{
 "cells": [
  {
   "cell_type": "code",
   "execution_count": 27,
   "id": "5ec318ec-6bff-421d-908e-5da566cf7801",
   "metadata": {},
   "outputs": [
    {
     "name": "stdin",
     "output_type": "stream",
     "text": [
      "Masukkan angka pertama: 234235\n",
      "Masukkan angka kedua: 234235\n",
      "Masukkan angka ketiga: 234235\n"
     ]
    },
    {
     "name": "stdout",
     "output_type": "stream",
     "text": [
      "False\n"
     ]
    }
   ],
   "source": [
    "def cek_angka(angka_pertama, angka_kedua, angka_ketiga):\n",
    "\n",
    "    if angka_pertama != angka_kedua != angka_ketiga:\n",
    "        if angka_pertama + angka_kedua == angka_ketiga or angka_pertama + angka_ketiga == angka_kedua or angka_kedua + angka_ketiga == angka_pertama:\n",
    "            return True\n",
    "    return False\n",
    "\n",
    "angkapertama = int(input('Masukkan angka pertama:'))\n",
    "angkakedua = int(input('Masukkan angka kedua:'))\n",
    "angkaketiga = int(input('Masukkan angka ketiga:'))\n",
    "\n",
    "print(cek_angka(angkapertama, angkakedua, angkaketiga))"
   ]
  }
 ],
 "metadata": {
  "kernelspec": {
   "display_name": "Python 3 (ipykernel)",
   "language": "python",
   "name": "python3"
  },
  "language_info": {
   "codemirror_mode": {
    "name": "ipython",
    "version": 3
   },
   "file_extension": ".py",
   "mimetype": "text/x-python",
   "name": "python",
   "nbconvert_exporter": "python",
   "pygments_lexer": "ipython3",
   "version": "3.12.0"
  }
 },
 "nbformat": 4,
 "nbformat_minor": 5
}
